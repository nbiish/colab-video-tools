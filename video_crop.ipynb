{
  "nbformat": 4,
  "nbformat_minor": 0,
  "metadata": {
    "colab": {
      "provenance": [],
      "authorship_tag": "ABX9TyNRLDwS8P7BncvASTlFu5Ec",
      "include_colab_link": true
    },
    "kernelspec": {
      "name": "python3",
      "display_name": "Python 3"
    },
    "language_info": {
      "name": "python"
    }
  },
  "cells": [
    {
      "cell_type": "markdown",
      "metadata": {
        "id": "view-in-github",
        "colab_type": "text"
      },
      "source": [
        "<a href=\"https://colab.research.google.com/github/nbiish/colab-video-tools/blob/main/video_crop.ipynb\" target=\"_parent\"><img src=\"https://colab.research.google.com/assets/colab-badge.svg\" alt=\"Open In Colab\"/></a>"
      ]
    },
    {
      "cell_type": "markdown",
      "source": [
        "## LEARNING?\n",
        "---\n",
        "* Click 📁\n",
        "* Drag files into window 👍it's ok sample_data is there\n",
        "* Select ▶️ by cells😁\n",
        "* Click next to titles to collapse cells and clean up workspace 👀\n",
        "* if you pressed 📁..  \n",
        "* ➡️ drop files in \"content\"\n",
        "* refresh browser for original view 👀\n",
        "* deleting one-by-one? 👉 try ... by file or LAST CELL👇\n",
        "---\n"
      ],
      "metadata": {
        "id": "EnQNo2oFOUMw"
      }
    },
    {
      "cell_type": "markdown",
      "source": [
        "## ⬇️ Crop -- sunov3 (lyric dimensions)"
      ],
      "metadata": {
        "id": "GHzV5LzT7whr"
      }
    },
    {
      "cell_type": "code",
      "execution_count": null,
      "metadata": {
        "id": "ErCm5B9-ook4"
      },
      "outputs": [],
      "source": [
        "import os\n",
        "from moviepy.editor import VideoFileClip\n",
        "\n",
        "def crop_video_lyrics(input_file, output_file):\n",
        "    \"\"\"Crops the video to only include the lyrics section.\"\"\"\n",
        "    with VideoFileClip(input_file) as video:\n",
        "        width, height = video.size\n",
        "        top = int(height * 0.63)  # Start crop x% from the top\n",
        "        bottom = int(height * 0.99)  # End crop x% from the top\n",
        "\n",
        "        # Crop the video to the lyrics section\n",
        "        cropped_video = video.crop(y1=top, y2=bottom)\n",
        "\n",
        "        # Write the cropped video to the output file\n",
        "        cropped_video.write_videofile(output_file)\n",
        "\n",
        "# Get all video files in the current directory\n",
        "video_files = [f for f in os.listdir('.') if f.endswith(('.mp4', '.mov', '.avi', '.webm'))]\n",
        "\n",
        "# Process each video\n",
        "for video_file in video_files:\n",
        "    output_file_name = f\"cropped_{video_file}\"\n",
        "    crop_video_lyrics(video_file, output_file_name)"
      ]
    },
    {
      "cell_type": "markdown",
      "source": [
        "## ⬇️ Crop -- sunov3 (NO lyric dimensions)"
      ],
      "metadata": {
        "id": "NLGXX5R_G8Y1"
      }
    },
    {
      "cell_type": "code",
      "source": [
        "import os\n",
        "from moviepy.editor import VideoFileClip\n",
        "\n",
        "def crop_video_lyrics(input_file, output_file):\n",
        "    \"\"\"Crops the video to only include the lyrics section.\"\"\"\n",
        "    with VideoFileClip(input_file) as video:\n",
        "        width, height = video.size\n",
        "        top = int(height * 0.12)  # Start crop x% from the top\n",
        "        bottom = int(height * 0.52)  # End crop x% from the top\n",
        "\n",
        "        # Crop the video to the lyrics section\n",
        "        cropped_video = video.crop(y1=top, y2=bottom)\n",
        "\n",
        "        # Write the cropped video to the output file\n",
        "        cropped_video.write_videofile(output_file)\n",
        "\n",
        "# Get all video files in the current directory\n",
        "video_files = [f for f in os.listdir('.') if f.endswith(('.mp4', '.mov', '.avi', '.webm'))]\n",
        "\n",
        "# Process each video\n",
        "for video_file in video_files:\n",
        "    output_file_name = f\"cropped_{video_file}\"\n",
        "    crop_video_lyrics(video_file, output_file_name)"
      ],
      "metadata": {
        "id": "z2YgBWf9G1HX"
      },
      "execution_count": null,
      "outputs": []
    },
    {
      "cell_type": "code",
      "source": [
        "# TEST 1 ---> NO LAST SECOND ISSUES SO FAR --- ONE VIDEO\n",
        "# TEST 2 ---> __RESULTS__ --- MULTI-VIDEO\n",
        "\n",
        "import os\n",
        "from moviepy.editor import VideoFileClip\n",
        "\n",
        "def crop_video_lyrics(input_file, output_file):\n",
        "    \"\"\"Crops the video to only include the lyrics section.\"\"\"\n",
        "    with VideoFileClip(input_file) as video:\n",
        "        width, height = video.size\n",
        "        top = int(height * 0.12)  # Start crop x% from the top\n",
        "        bottom = int(height * 0.52)  # End crop x% from the top\n",
        "\n",
        "        # Crop the video to the lyrics section\n",
        "        cropped_video = video.crop(y1=top, y2=bottom)\n",
        "\n",
        "        # Write the cropped video to the output file\n",
        "        cropped_video.write_videofile(output_file, fps=video.fps)\n",
        "\n",
        "# Get all video files in the current directory\n",
        "video_files = [f for f in os.listdir('.') if f.endswith(('.mp4', '.mov', '.avi', '.webm'))]\n",
        "\n",
        "# Process each video\n",
        "for video_file in video_files:\n",
        "    output_file_name = f\"cropped_{video_file}\"\n",
        "    crop_video_lyrics(video_file, output_file_name)"
      ],
      "metadata": {
        "id": "_fS37wSbVsDO",
        "outputId": "eed2c47e-a812-4e5c-c862-2117739a0dc8",
        "colab": {
          "base_uri": "https://localhost:8080/"
        }
      },
      "execution_count": 3,
      "outputs": [
        {
          "output_type": "stream",
          "name": "stdout",
          "text": [
            "Moviepy - Building video cropped_Electric Dreams.mp4.\n",
            "MoviePy - Writing audio in cropped_Electric DreamsTEMP_MPY_wvf_snd.mp3\n"
          ]
        },
        {
          "output_type": "stream",
          "name": "stderr",
          "text": []
        },
        {
          "output_type": "stream",
          "name": "stdout",
          "text": [
            "MoviePy - Done.\n",
            "Moviepy - Writing video cropped_Electric Dreams.mp4\n",
            "\n"
          ]
        },
        {
          "output_type": "stream",
          "name": "stderr",
          "text": []
        },
        {
          "output_type": "stream",
          "name": "stdout",
          "text": [
            "Moviepy - Done !\n",
            "Moviepy - video ready cropped_Electric Dreams.mp4\n"
          ]
        }
      ]
    },
    {
      "cell_type": "markdown",
      "source": [
        "## ⬇️ Store files to zip"
      ],
      "metadata": {
        "id": "1pU9oX-9728V"
      }
    },
    {
      "cell_type": "code",
      "source": [
        "import shutil\n",
        "\n",
        "source_dir = '/content/'\n",
        "dest_dir = '/content/cropped_files/'\n",
        "\n",
        "# Create the destination directory if it doesn't exist\n",
        "os.makedirs(dest_dir, exist_ok=True)\n",
        "\n",
        "for filename in os.listdir(source_dir):\n",
        "    if filename.startswith('cropped'):\n",
        "        full_file_path = os.path.join(source_dir, filename)\n",
        "        # Check if it's a file, not a directory\n",
        "        if os.path.isfile(full_file_path):\n",
        "            # Remove 'cropped_' and split the filename and extension\n",
        "            name, ext = os.path.splitext(filename.replace('cropped_', ''))\n",
        "\n",
        "            # Construct the new filename\n",
        "            new_filename = f\"Nbiish - {name} - with lyrics{ext}\"\n",
        "\n",
        "            # Move the file to the destination directory with the new filename\n",
        "            shutil.move(full_file_path, os.path.join(dest_dir, new_filename))\n"
      ],
      "metadata": {
        "id": "eB3e-1wdsaN1"
      },
      "execution_count": 4,
      "outputs": []
    },
    {
      "cell_type": "markdown",
      "source": [
        "## ⬇️ Download zip"
      ],
      "metadata": {
        "id": "z2su6UOd79Bh"
      }
    },
    {
      "cell_type": "code",
      "source": [
        "!zip -r /content/cropped_files.zip /content/cropped_files/\n",
        "from google.colab import files\n",
        "files.download('/content/cropped_files.zip')\n"
      ],
      "metadata": {
        "id": "p4tPfGoVscx4",
        "outputId": "b6f954a5-4440-4962-91d9-21c85ec36b7a",
        "colab": {
          "base_uri": "https://localhost:8080/",
          "height": 53
        }
      },
      "execution_count": 5,
      "outputs": [
        {
          "output_type": "stream",
          "name": "stdout",
          "text": [
            "  adding: content/cropped_files/ (stored 0%)\n",
            "  adding: content/cropped_files/Nbiish - Electric Dreams - with lyrics.mp4 (deflated 2%)\n"
          ]
        },
        {
          "output_type": "display_data",
          "data": {
            "text/plain": [
              "<IPython.core.display.Javascript object>"
            ],
            "application/javascript": [
              "\n",
              "    async function download(id, filename, size) {\n",
              "      if (!google.colab.kernel.accessAllowed) {\n",
              "        return;\n",
              "      }\n",
              "      const div = document.createElement('div');\n",
              "      const label = document.createElement('label');\n",
              "      label.textContent = `Downloading \"${filename}\": `;\n",
              "      div.appendChild(label);\n",
              "      const progress = document.createElement('progress');\n",
              "      progress.max = size;\n",
              "      div.appendChild(progress);\n",
              "      document.body.appendChild(div);\n",
              "\n",
              "      const buffers = [];\n",
              "      let downloaded = 0;\n",
              "\n",
              "      const channel = await google.colab.kernel.comms.open(id);\n",
              "      // Send a message to notify the kernel that we're ready.\n",
              "      channel.send({})\n",
              "\n",
              "      for await (const message of channel.messages) {\n",
              "        // Send a message to notify the kernel that we're ready.\n",
              "        channel.send({})\n",
              "        if (message.buffers) {\n",
              "          for (const buffer of message.buffers) {\n",
              "            buffers.push(buffer);\n",
              "            downloaded += buffer.byteLength;\n",
              "            progress.value = downloaded;\n",
              "          }\n",
              "        }\n",
              "      }\n",
              "      const blob = new Blob(buffers, {type: 'application/binary'});\n",
              "      const a = document.createElement('a');\n",
              "      a.href = window.URL.createObjectURL(blob);\n",
              "      a.download = filename;\n",
              "      div.appendChild(a);\n",
              "      a.click();\n",
              "      div.remove();\n",
              "    }\n",
              "  "
            ]
          },
          "metadata": {}
        },
        {
          "output_type": "display_data",
          "data": {
            "text/plain": [
              "<IPython.core.display.Javascript object>"
            ],
            "application/javascript": [
              "download(\"download_dada77b2-2c35-4a80-aeb7-c91116c9fa50\", \"cropped_files.zip\", 5677729)"
            ]
          },
          "metadata": {}
        }
      ]
    },
    {
      "cell_type": "markdown",
      "source": [
        "\n",
        "## ⬇️ REMOVES ALL FILES in 👉 ***/content*** 👈 directory"
      ],
      "metadata": {
        "id": "R-EbHgfnFJG9"
      }
    },
    {
      "cell_type": "code",
      "source": [
        "%rm -r *"
      ],
      "metadata": {
        "id": "RKI35fS4F0D4"
      },
      "execution_count": 6,
      "outputs": []
    }
  ]
}