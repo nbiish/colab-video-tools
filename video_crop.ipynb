{
  "nbformat": 4,
  "nbformat_minor": 0,
  "metadata": {
    "colab": {
      "provenance": [],
      "authorship_tag": "ABX9TyPyKiuPYZtXjAszhHB3QOmv",
      "include_colab_link": true
    },
    "kernelspec": {
      "name": "python3",
      "display_name": "Python 3"
    },
    "language_info": {
      "name": "python"
    }
  },
  "cells": [
    {
      "cell_type": "markdown",
      "metadata": {
        "id": "view-in-github",
        "colab_type": "text"
      },
      "source": [
        "<a href=\"https://colab.research.google.com/github/nbiish/colab-video-tools/blob/main/video_crop.ipynb\" target=\"_parent\"><img src=\"https://colab.research.google.com/assets/colab-badge.svg\" alt=\"Open In Colab\"/></a>"
      ]
    },
    {
      "cell_type": "markdown",
      "source": [
        "## LEARNING?\n",
        "---\n",
        "* Click 📁\n",
        "* Drag files into window 👍it's ok sample_data is there\n",
        "* Select ▶️ by cells😁\n",
        "* Click next to titles to collapse cells and clean up workspace 👀\n",
        "* if you pressed 📁..  \n",
        "* ➡️ drop files in \"content\"\n",
        "* refresh browser for original view 👀\n",
        "* deleting one-by-one? 👉 try ... by file or LAST CELL👇\n",
        "---\n"
      ],
      "metadata": {
        "id": "EnQNo2oFOUMw"
      }
    },
    {
      "cell_type": "markdown",
      "source": [
        "## ⬇️ Crop -- sunov3 (lyric dimensions)"
      ],
      "metadata": {
        "id": "GHzV5LzT7whr"
      }
    },
    {
      "cell_type": "code",
      "execution_count": null,
      "metadata": {
        "id": "ErCm5B9-ook4"
      },
      "outputs": [],
      "source": [
        "import os\n",
        "from moviepy.editor import VideoFileClip\n",
        "\n",
        "def crop_video_lyrics(input_file, output_file):\n",
        "    \"\"\"Crops the video to only include the lyrics section.\"\"\"\n",
        "    with VideoFileClip(input_file) as video:\n",
        "        width, height = video.size\n",
        "        top = int(height * 0.63)  # Start crop x% from the top\n",
        "        bottom = int(height * 0.99)  # End crop x% from the top\n",
        "\n",
        "        # Crop the video to the lyrics section\n",
        "        cropped_video = video.crop(y1=top, y2=bottom)\n",
        "\n",
        "        # Write the cropped video to the output file\n",
        "        cropped_video.write_videofile(output_file)\n",
        "\n",
        "# Get all video files in the current directory\n",
        "video_files = [f for f in os.listdir('.') if f.endswith(('.mp4', '.mov', '.avi', '.webm'))]\n",
        "\n",
        "# Process each video\n",
        "for video_file in video_files:\n",
        "    output_file_name = f\"cropped_{video_file}\"\n",
        "    crop_video_lyrics(video_file, output_file_name)"
      ]
    },
    {
      "cell_type": "markdown",
      "source": [
        "## ⬇️ Crop -- sunov3 (NO lyric dimensions)"
      ],
      "metadata": {
        "id": "NLGXX5R_G8Y1"
      }
    },
    {
      "cell_type": "code",
      "source": [
        "import os\n",
        "from moviepy.editor import VideoFileClip\n",
        "\n",
        "def crop_video_lyrics(input_file, output_file):\n",
        "    \"\"\"Crops the video to only include the lyrics section.\"\"\"\n",
        "    with VideoFileClip(input_file) as video:\n",
        "        width, height = video.size\n",
        "        top = int(height * 0.27)  # Start crop x% from the top\n",
        "        bottom = int(height * 0.66)  # End crop x% from the top\n",
        "\n",
        "        # Crop the video to the lyrics section\n",
        "        cropped_video = video.crop(y1=top, y2=bottom)\n",
        "\n",
        "        # Write the cropped video to the output file\n",
        "        cropped_video.write_videofile(output_file)\n",
        "\n",
        "# Get all video files in the current directory\n",
        "video_files = [f for f in os.listdir('.') if f.endswith(('.mp4', '.mov', '.avi', '.webm'))]\n",
        "\n",
        "# Process each video\n",
        "for video_file in video_files:\n",
        "    output_file_name = f\"cropped_{video_file}\"\n",
        "    crop_video_lyrics(video_file, output_file_name)"
      ],
      "metadata": {
        "id": "z2YgBWf9G1HX"
      },
      "execution_count": null,
      "outputs": []
    },
    {
      "cell_type": "markdown",
      "source": [
        "## ⬇️ Store files to zip"
      ],
      "metadata": {
        "id": "1pU9oX-9728V"
      }
    },
    {
      "cell_type": "code",
      "source": [
        "import shutil\n",
        "\n",
        "source_dir = '/content/'\n",
        "dest_dir = '/content/cropped_files/'\n",
        "\n",
        "# Create the destination directory if it doesn't exist\n",
        "os.makedirs(dest_dir, exist_ok=True)\n",
        "\n",
        "for filename in os.listdir(source_dir):\n",
        "    if filename.startswith('cropped'):\n",
        "        full_file_path = os.path.join(source_dir, filename)\n",
        "        # Check if it's a file, not a directory\n",
        "        if os.path.isfile(full_file_path):\n",
        "            # Remove 'cropped_' and split the filename and extension\n",
        "            name, ext = os.path.splitext(filename.replace('cropped_', ''))\n",
        "\n",
        "            # Construct the new filename\n",
        "            new_filename = f\"Nbiish - {name} - with lyrics{ext}\"\n",
        "\n",
        "            # Move the file to the destination directory with the new filename\n",
        "            shutil.move(full_file_path, os.path.join(dest_dir, new_filename))\n"
      ],
      "metadata": {
        "id": "eB3e-1wdsaN1"
      },
      "execution_count": null,
      "outputs": []
    },
    {
      "cell_type": "markdown",
      "source": [
        "## ⬇️ Download zip"
      ],
      "metadata": {
        "id": "z2su6UOd79Bh"
      }
    },
    {
      "cell_type": "code",
      "source": [
        "!zip -r /content/cropped_files.zip /content/cropped_files/\n",
        "from google.colab import files\n",
        "files.download('/content/cropped_files.zip')\n"
      ],
      "metadata": {
        "id": "p4tPfGoVscx4"
      },
      "execution_count": null,
      "outputs": []
    },
    {
      "cell_type": "markdown",
      "source": [
        "\n",
        "### ⬇️ REMOVES ALL FILES in 👉 ***/content*** 👈 directory"
      ],
      "metadata": {
        "id": "R-EbHgfnFJG9"
      }
    },
    {
      "cell_type": "code",
      "source": [
        "%rm -r *"
      ],
      "metadata": {
        "id": "RKI35fS4F0D4"
      },
      "execution_count": null,
      "outputs": []
    }
  ]
}