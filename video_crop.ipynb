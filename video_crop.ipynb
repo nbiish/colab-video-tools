{
  "nbformat": 4,
  "nbformat_minor": 0,
  "metadata": {
    "colab": {
      "provenance": [],
      "authorship_tag": "ABX9TyNja7pUWnOU3/J5Qy7pZ4kR",
      "include_colab_link": true
    },
    "kernelspec": {
      "name": "python3",
      "display_name": "Python 3"
    },
    "language_info": {
      "name": "python"
    }
  },
  "cells": [
    {
      "cell_type": "markdown",
      "metadata": {
        "id": "view-in-github",
        "colab_type": "text"
      },
      "source": [
        "<a href=\"https://colab.research.google.com/github/nbiish/colab-video-tools/blob/main/video_crop.ipynb\" target=\"_parent\"><img src=\"https://colab.research.google.com/assets/colab-badge.svg\" alt=\"Open In Colab\"/></a>"
      ]
    },
    {
      "cell_type": "markdown",
      "source": [
        "## LEARNING?\n",
        "---\n",
        "* Click 📁\n",
        "* Drag files into window 👍it's ok sample_data is there\n",
        "* Select ▶️ by cells😁\n",
        "* Click next to titles to collapse cells and clean up workspace 👀\n",
        "* if you pressed 📁..  \n",
        "* ➡️ drop files in \"content\"\n",
        "* refresh browser for original view 👀\n",
        "* deleting one-by-one? 👉 try ... by file or LAST CELL👇\n",
        "---\n"
      ],
      "metadata": {
        "id": "EnQNo2oFOUMw"
      }
    },
    {
      "cell_type": "markdown",
      "source": [
        "## ⬇️ Crop -- sunov3"
      ],
      "metadata": {
        "id": "NLGXX5R_G8Y1"
      }
    },
    {
      "cell_type": "code",
      "source": [
        "%mkdir temp"
      ],
      "metadata": {
        "id": "fwMrcL3L3dvT"
      },
      "execution_count": null,
      "outputs": []
    },
    {
      "cell_type": "code",
      "source": [
        "%mv * temp/"
      ],
      "metadata": {
        "id": "9O2rffmh3ipE"
      },
      "execution_count": null,
      "outputs": []
    },
    {
      "cell_type": "markdown",
      "source": [
        "## START OF TESTING ----------------------\n",
        "---"
      ],
      "metadata": {
        "id": "WerQbEZWDDuI"
      }
    },
    {
      "cell_type": "code",
      "source": [
        "%rm -r cropped_*"
      ],
      "metadata": {
        "id": "CVAgcIbZEHWo"
      },
      "execution_count": null,
      "outputs": []
    },
    {
      "cell_type": "code",
      "source": [
        "# FOR SONG ALL SONGS\n",
        "import os\n",
        "import shutil # FOR ZIP\n",
        "\n",
        "from moviepy.editor import VideoFileClip\n",
        "\n",
        "def crop_video_lyrics(input_file, output_file):\n",
        "    \"\"\"Crops the video to only include the image section.\"\"\"\n",
        "    with VideoFileClip(input_file) as video:\n",
        "        width, height = video.size\n",
        "\n",
        "\n",
        "        original_duration = video.duration\n",
        "        new_duration = original_duration - 1\n",
        "\n",
        "        top = int(height * 0.27)  # Start crop x% from the top\n",
        "        bottom = int(height * 0.52)  # End crop x% from the top\n",
        "\n",
        "        # Crop the video to the lyrics section\n",
        "        # cropped_video = video.crop(y1=top, y2=bottom)\n",
        "\n",
        "        cropped_video = video.crop(x1=int(width * 0.15), x2=int(width * 0.85), y1=top, y2=bottom)\n",
        "\n",
        "        trimmed_video = cropped_video.subclip(0, new_duration)\n",
        "\n",
        "        # Write the cropped video to the output file\n",
        "        trimmed_video.write_videofile(output_file)\n",
        "\n",
        "# Get all video files in the current directory\n",
        "video_files = [f for f in os.listdir('.') if f.endswith(('.mp4', '.mov', '.avi', '.webm'))]\n",
        "\n",
        "# Process each video\n",
        "for video_file in video_files:\n",
        "    output_file_name = f\"cropped_{video_file}\"\n",
        "    crop_video_lyrics(video_file, output_file_name)\n",
        "\n",
        "# FASTER DOWNLOADS\n",
        "\n",
        "# RENAME EVERYTHING AND MOVE TO CROPPED FOLDER\n",
        "source_dir = '/content/'\n",
        "dest_dir = '/content/cropped_files/'\n",
        "\n",
        "# Create the destination directory if it doesn't exist\n",
        "os.makedirs(dest_dir, exist_ok=True)\n",
        "\n",
        "for filename in os.listdir(source_dir):\n",
        "    if filename.startswith('cropped'):\n",
        "        full_file_path = os.path.join(source_dir, filename)\n",
        "        # Check if it's a file, not a directory\n",
        "        if os.path.isfile(full_file_path):\n",
        "            # Remove 'cropped_' and split the filename and extension\n",
        "            name, ext = os.path.splitext(filename.replace('cropped_', ''))\n",
        "\n",
        "            # Construct the new filename\n",
        "            new_filename = f\"Nbiish - {name} - with lyrics{ext}\"\n",
        "\n",
        "            # Move the file to the destination directory with the new filename\n",
        "            shutil.move(full_file_path, os.path.join(dest_dir, new_filename))\n",
        "\n",
        "\n",
        "# ZIP CROPPED FOLDER AND DOWNLOAD\n",
        "!zip -r /content/cropped_files.zip /content/cropped_files/\n",
        "from google.colab import files\n",
        "files.download('/content/cropped_files.zip')\n"
      ],
      "metadata": {
        "id": "_fS37wSbVsDO"
      },
      "execution_count": null,
      "outputs": []
    },
    {
      "cell_type": "markdown",
      "source": [
        "## END OF TESTING -------------------\n",
        "---\n"
      ],
      "metadata": {
        "id": "jAkYkzBZGg_S"
      }
    },
    {
      "cell_type": "markdown",
      "source": [],
      "metadata": {
        "id": "RcZsmcj4GmXN"
      }
    },
    {
      "cell_type": "markdown",
      "source": [
        "## ⬇️ Store files to zip"
      ],
      "metadata": {
        "id": "1pU9oX-9728V"
      }
    },
    {
      "cell_type": "code",
      "source": [
        "import shutil\n",
        "\n",
        "source_dir = '/content/'\n",
        "dest_dir = '/content/cropped_files/'\n",
        "\n",
        "# Create the destination directory if it doesn't exist\n",
        "os.makedirs(dest_dir, exist_ok=True)\n",
        "\n",
        "for filename in os.listdir(source_dir):\n",
        "    if filename.startswith('cropped'):\n",
        "        full_file_path = os.path.join(source_dir, filename)\n",
        "        # Check if it's a file, not a directory\n",
        "        if os.path.isfile(full_file_path):\n",
        "            # Remove 'cropped_' and split the filename and extension\n",
        "            name, ext = os.path.splitext(filename.replace('cropped_', ''))\n",
        "\n",
        "            # Construct the new filename\n",
        "            new_filename = f\"Nbiish - {name} - with lyrics{ext}\"\n",
        "\n",
        "            # Move the file to the destination directory with the new filename\n",
        "            shutil.move(full_file_path, os.path.join(dest_dir, new_filename))\n"
      ],
      "metadata": {
        "id": "eB3e-1wdsaN1"
      },
      "execution_count": null,
      "outputs": []
    },
    {
      "cell_type": "markdown",
      "source": [
        "## ⬇️ Download zip"
      ],
      "metadata": {
        "id": "z2su6UOd79Bh"
      }
    },
    {
      "cell_type": "code",
      "source": [
        "!zip -r /content/cropped_files.zip /content/cropped_files/\n",
        "from google.colab import files\n",
        "files.download('/content/cropped_files.zip')\n"
      ],
      "metadata": {
        "id": "p4tPfGoVscx4"
      },
      "execution_count": null,
      "outputs": []
    },
    {
      "cell_type": "markdown",
      "source": [
        "\n",
        "## ⬇️ REMOVES ALL FILES in 👉 ***/content*** 👈 directory"
      ],
      "metadata": {
        "id": "R-EbHgfnFJG9"
      }
    },
    {
      "cell_type": "code",
      "source": [
        "%rm -r *"
      ],
      "metadata": {
        "id": "RKI35fS4F0D4"
      },
      "execution_count": null,
      "outputs": []
    }
  ]
}